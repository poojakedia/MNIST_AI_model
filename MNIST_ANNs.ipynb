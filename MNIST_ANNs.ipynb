{
  "nbformat": 4,
  "nbformat_minor": 0,
  "metadata": {
    "colab": {
      "provenance": [],
      "gpuType": "T4"
    },
    "kernelspec": {
      "name": "python3",
      "display_name": "Python 3"
    },
    "language_info": {
      "name": "python"
    },
    "accelerator": "GPU"
  },
  "cells": [
    {
      "cell_type": "code",
      "execution_count": 2,
      "metadata": {
        "colab": {
          "base_uri": "https://localhost:8080/"
        },
        "id": "oQ5rTwszzUzq",
        "outputId": "690237eb-d6d3-422b-d6d1-6117f56acdff"
      },
      "outputs": [
        {
          "output_type": "stream",
          "name": "stdout",
          "text": [
            "Drive already mounted at /content/drive; to attempt to forcibly remount, call drive.mount(\"/content/drive\", force_remount=True).\n"
          ]
        }
      ],
      "source": [
        "import pandas as pd\n",
        "import numpy as np\n",
        "import matplotlib.pyplot as plt\n",
        "\n",
        "import tensorflow as tf\n",
        "from tensorflow import keras\n",
        "from keras import Input\n",
        "from keras.models import Sequential\n",
        "from keras.layers import Dense, Flatten\n",
        "import cv2\n",
        "\n",
        "from google.colab import drive\n",
        "drive.mount('/content/drive')\n",
        "\n",
        "# %matplotline inline"
      ]
    },
    {
      "cell_type": "code",
      "source": [],
      "metadata": {
        "id": "3nbw_ZPT1Wt3"
      },
      "execution_count": 2,
      "outputs": []
    },
    {
      "cell_type": "code",
      "source": [
        "training_data, testing_data = keras.datasets.mnist.load_data()\n",
        "\n",
        "print(f'Training Data Shape: {training_data[0].shape}')\n",
        "#returns the length of dataset, dimensions of image matrix\n",
        "print(f'Testing Data Shape: {testing_data[0].shape}')"
      ],
      "metadata": {
        "colab": {
          "base_uri": "https://localhost:8080/"
        },
        "id": "YyGL_Hfr1WvC",
        "outputId": "b81631c6-f810-4382-b69b-e3e42dd70701"
      },
      "execution_count": 3,
      "outputs": [
        {
          "output_type": "stream",
          "name": "stdout",
          "text": [
            "Training Data Shape: (60000, 28, 28)\n",
            "Testing Data Shape: (10000, 28, 28)\n"
          ]
        }
      ]
    },
    {
      "cell_type": "code",
      "source": [
        "random_index = np.random.randint(low = 0, high = training_data[0].shape[0], size = 1, dtype =int)\n",
        "random_example = np.squeeze(training_data[0][random_index], axis = 0)\n",
        "\n",
        "plt.imshow(random_example)\n",
        "print(f'Image Label: {training_data[1][random_index][0]}')\n",
        "#training data is tuple (x,y)\n",
        "plt.show()"
      ],
      "metadata": {
        "colab": {
          "base_uri": "https://localhost:8080/",
          "height": 448
        },
        "id": "6NhdEJmT2P5k",
        "outputId": "3aeba898-0b3e-460c-e6bb-818067fec5e5"
      },
      "execution_count": 4,
      "outputs": [
        {
          "output_type": "stream",
          "name": "stdout",
          "text": [
            "Image Label: 0\n"
          ]
        },
        {
          "output_type": "display_data",
          "data": {
            "text/plain": [
              "<Figure size 640x480 with 1 Axes>"
            ],
            "image/png": "[encoded data removed]"
          },
          "metadata": {}
        }
      ]
    },
    {
      "cell_type": "code",
      "source": [
        "train_x = training_data[0]/255.0\n",
        "train_y = training_data[1] #extracts y from the tuple, labels are digits between 0 and 9\n",
        "\n",
        "test_X = testing_data[0]/ 255.0 #scales pixels from 0-255 to between 0-1 helps train them a little faster, feature optimization\n",
        "test_Y = testing_data[1]"
      ],
      "metadata": {
        "id": "rhMXkHmz488K"
      },
      "execution_count": 5,
      "outputs": []
    },
    {
      "cell_type": "code",
      "source": [
        "print(f\"Shape of x: {train_x.shape}\")\n",
        "print(f\"Shape of y: {train_y.shape}\") #size of our y is one column of 60,000 with integer labels\n",
        "#convert integer values to categorical variables by assigning them to indentity/categorical matrix, multiple classes/bins (classification problem)"
      ],
      "metadata": {
        "colab": {
          "base_uri": "https://localhost:8080/"
        },
        "id": "p9zK0p8n5jAB",
        "outputId": "cacf645f-1ea1-459a-adad-1cf06d27f01c"
      },
      "execution_count": 6,
      "outputs": [
        {
          "output_type": "stream",
          "name": "stdout",
          "text": [
            "Shape of x: (60000, 28, 28)\n",
            "Shape of y: (60000,)\n"
          ]
        }
      ]
    },
    {
      "cell_type": "code",
      "source": [
        "train_y = keras.utils.to_categorical(train_y, num_classes = 10) #0-9 digits, trying to predict 10 classes\n",
        "test_y = keras.utils.to_categorical(test_Y, num_classes = 10) #create categorical classes with test now\n",
        "\n",
        "print(f\"Shape of categorical train_y: {train_y.shape}\")\n",
        "\n",
        "#f(x)= w1x1 + w2x2+... wbxb + b\n",
        "#but... feeding linear function in linear function will simply produce linear function which isnt reality\n",
        "#use an activation function! ReLu--> rectified linear unit, (could also use softmax to convert inputs into probabilities)"
      ],
      "metadata": {
        "colab": {
          "base_uri": "https://localhost:8080/"
        },
        "id": "X1osur3n7R5A",
        "outputId": "1551799f-fe3e-420f-88b0-3f8e79879638"
      },
      "execution_count": 7,
      "outputs": [
        {
          "output_type": "stream",
          "name": "stdout",
          "text": [
            "Shape of categorical train_y: (60000, 10)\n"
          ]
        }
      ]
    },
    {
      "cell_type": "code",
      "source": [
        "model = Sequential() #fully connected- each output goes to the next layer\n",
        "\n",
        "model.add(Input(shape =(28,28))) #add an input layer, so that keras knows what to expect as input- like the shape\n",
        "#nn can't really understand matrix in ANN (artificial nueral network)\n",
        "#flatten matrix, stacking columns of matrix to form a single column vector\n",
        "model.add(Flatten())#adds flatten layer\n",
        "model.add(Dense(units=7, activation = 'relu')) #stacking nuerons on top of each other, this is called dense method, relu to introduce non-linear properties\n",
        "model.add(Dense(units =30, activation = 'relu'))\n",
        "model.add(Dense(units =83, activation = 'relu')) #hidden layers\n",
        "model.add(Dense(units =47, activation = 'relu'))\n",
        "model.add(Dense(units = 10, activation = 'softmax')) #last layer has to have 10 units because we have 10 possible output labels, turn outputs into probabilites for each possible label\n"
      ],
      "metadata": {
        "id": "6DLZnefp97Eq"
      },
      "execution_count": 11,
      "outputs": []
    },
    {
      "cell_type": "code",
      "source": [
        "model.summary()"
      ],
      "metadata": {
        "colab": {
          "base_uri": "https://localhost:8080/"
        },
        "id": "6dm97_v9AZwW",
        "outputId": "3dc9ab49-4253-4f9a-847e-973f40cfa62b"
      },
      "execution_count": 12,
      "outputs": [
        {
          "output_type": "stream",
          "name": "stdout",
          "text": [
            "Model: \"sequential_1\"\n",
            "_________________________________________________________________\n",
            " Layer (type)                Output Shape              Param #   \n",
            "=================================================================\n",
            " flatten_1 (Flatten)         (None, 784)               0         \n",
            "                                                                 \n",
            " dense_5 (Dense)             (None, 7)                 5495      \n",
            "                                                                 \n",
            " dense_6 (Dense)             (None, 30)                240       \n",
            "                                                                 \n",
            " dense_7 (Dense)             (None, 83)                2573      \n",
            "                                                                 \n",
            " dense_8 (Dense)             (None, 47)                3948      \n",
            "                                                                 \n",
            " dense_9 (Dense)             (None, 10)                480       \n",
            "                                                                 \n",
            "=================================================================\n",
            "Total params: 12736 (49.75 KB)\n",
            "Trainable params: 12736 (49.75 KB)\n",
            "Non-trainable params: 0 (0.00 Byte)\n",
            "_________________________________________________________________\n"
          ]
        }
      ]
    },
    {
      "cell_type": "code",
      "source": [
        "#universal approximation theorem of nn can approximate any function f(x)\n",
        "#loss function will tell us how bad our model is, minimize loss\n",
        "#loss function should be differentiable bc we want to get the minimum, use derivatives to find how much each weight impacts the loss function\n",
        "#back propogation uses chain rule to find every weight d/dx\n",
        "#gradient descent finds alpha to figure out step size\n",
        "\n",
        "loss_function = 'categorical_crossentropy' #sum of each x *log(probability of class), probability is low so its going to get a bigger penalty\n",
        "optimizer = keras.optimizers.SGD(learning_rate = 0.01) #randomly runs gradient descent on certain datapoints, learning rate is alpha- find out bounds\n",
        "metrics = ['accuracy']\n",
        "model.compile(optimizer = optimizer, loss = loss_function, metrics = metrics)\n",
        "\n",
        ""
      ],
      "metadata": {
        "id": "Rr3imFtUBvyn"
      },
      "execution_count": 13,
      "outputs": []
    },
    {
      "cell_type": "code",
      "source": [
        "history = model.fit(x = train_x, y = train_y, batch_size = 32, epochs =50, shuffle = True) #epochs are the number of times we want our inputs to run through the model, shuffle- shuffles the data before each epoch\n",
        "#divides data into 32 batches"
      ],
      "metadata": {
        "colab": {
          "base_uri": "https://localhost:8080/"
        },
        "id": "BGgQBYw5E8h0",
        "outputId": "560b0cc1-48dd-4e4a-ab84-5f05dc926f98"
      },
      "execution_count": 14,
      "outputs": [
        {
          "output_type": "stream",
          "name": "stdout",
          "text": [
            "Epoch 1/50\n",
            "1875/1875 [==============================] - 14s 4ms/step - loss: 1.1457 - accuracy: 0.6128\n",
            "Epoch 2/50\n",
            "1875/1875 [==============================] - 6s 3ms/step - loss: 0.4562 - accuracy: 0.8652\n",
            "Epoch 3/50\n",
            "1875/1875 [==============================] - 8s 4ms/step - loss: 0.3594 - accuracy: 0.8949\n",
            "Epoch 4/50\n",
            "1875/1875 [==============================] - 6s 3ms/step - loss: 0.3179 - accuracy: 0.9063\n",
            "Epoch 5/50\n",
            "1875/1875 [==============================] - 8s 4ms/step - loss: 0.2913 - accuracy: 0.9133\n",
            "Epoch 6/50\n",
            "1875/1875 [==============================] - 7s 4ms/step - loss: 0.2708 - accuracy: 0.9191\n",
            "Epoch 7/50\n",
            "1875/1875 [==============================] - 8s 4ms/step - loss: 0.2560 - accuracy: 0.9238\n",
            "Epoch 8/50\n",
            "1875/1875 [==============================] - 7s 4ms/step - loss: 0.2448 - accuracy: 0.9262\n",
            "Epoch 9/50\n",
            "1875/1875 [==============================] - 8s 4ms/step - loss: 0.2359 - accuracy: 0.9295\n",
            "Epoch 10/50\n",
            "1875/1875 [==============================] - 6s 3ms/step - loss: 0.2270 - accuracy: 0.9322\n",
            "Epoch 11/50\n",
            "1875/1875 [==============================] - 8s 4ms/step - loss: 0.2218 - accuracy: 0.9318\n",
            "Epoch 12/50\n",
            "1875/1875 [==============================] - 6s 3ms/step - loss: 0.2161 - accuracy: 0.9345\n",
            "Epoch 13/50\n",
            "1875/1875 [==============================] - 8s 4ms/step - loss: 0.2107 - accuracy: 0.9366\n",
            "Epoch 14/50\n",
            "1875/1875 [==============================] - 6s 3ms/step - loss: 0.2076 - accuracy: 0.9368\n",
            "Epoch 15/50\n",
            "1875/1875 [==============================] - 8s 4ms/step - loss: 0.2027 - accuracy: 0.9387\n",
            "Epoch 16/50\n",
            "1875/1875 [==============================] - 6s 3ms/step - loss: 0.2002 - accuracy: 0.9388\n",
            "Epoch 17/50\n",
            "1875/1875 [==============================] - 8s 4ms/step - loss: 0.1970 - accuracy: 0.9395\n",
            "Epoch 18/50\n",
            "1875/1875 [==============================] - 6s 3ms/step - loss: 0.1937 - accuracy: 0.9413\n",
            "Epoch 19/50\n",
            "1875/1875 [==============================] - 8s 4ms/step - loss: 0.1910 - accuracy: 0.9420\n",
            "Epoch 20/50\n",
            "1875/1875 [==============================] - 7s 4ms/step - loss: 0.1879 - accuracy: 0.9417\n",
            "Epoch 21/50\n",
            "1875/1875 [==============================] - 8s 4ms/step - loss: 0.1855 - accuracy: 0.9441\n",
            "Epoch 22/50\n",
            "1875/1875 [==============================] - 6s 3ms/step - loss: 0.1836 - accuracy: 0.9437\n",
            "Epoch 23/50\n",
            "1875/1875 [==============================] - 8s 4ms/step - loss: 0.1816 - accuracy: 0.9441\n",
            "Epoch 24/50\n",
            "1875/1875 [==============================] - 6s 3ms/step - loss: 0.1805 - accuracy: 0.9451\n",
            "Epoch 25/50\n",
            "1875/1875 [==============================] - 8s 4ms/step - loss: 0.1779 - accuracy: 0.9453\n",
            "Epoch 26/50\n",
            "1875/1875 [==============================] - 6s 3ms/step - loss: 0.1759 - accuracy: 0.9466\n",
            "Epoch 27/50\n",
            "1875/1875 [==============================] - 8s 4ms/step - loss: 0.1754 - accuracy: 0.9453\n",
            "Epoch 28/50\n",
            "1875/1875 [==============================] - 6s 3ms/step - loss: 0.1738 - accuracy: 0.9463\n",
            "Epoch 29/50\n",
            "1875/1875 [==============================] - 8s 4ms/step - loss: 0.1716 - accuracy: 0.9468\n",
            "Epoch 30/50\n",
            "1875/1875 [==============================] - 6s 3ms/step - loss: 0.1705 - accuracy: 0.9472\n",
            "Epoch 31/50\n",
            "1875/1875 [==============================] - 8s 4ms/step - loss: 0.1682 - accuracy: 0.9487\n",
            "Epoch 32/50\n",
            "1875/1875 [==============================] - 6s 3ms/step - loss: 0.1671 - accuracy: 0.9479\n",
            "Epoch 33/50\n",
            "1875/1875 [==============================] - 8s 4ms/step - loss: 0.1661 - accuracy: 0.9485\n",
            "Epoch 34/50\n",
            "1875/1875 [==============================] - 6s 3ms/step - loss: 0.1654 - accuracy: 0.9492\n",
            "Epoch 35/50\n",
            "1875/1875 [==============================] - 7s 4ms/step - loss: 0.1630 - accuracy: 0.9496\n",
            "Epoch 36/50\n",
            "1875/1875 [==============================] - 6s 3ms/step - loss: 0.1622 - accuracy: 0.9497\n",
            "Epoch 37/50\n",
            "1875/1875 [==============================] - 8s 4ms/step - loss: 0.1618 - accuracy: 0.9495\n",
            "Epoch 38/50\n",
            "1875/1875 [==============================] - 6s 3ms/step - loss: 0.1607 - accuracy: 0.9494\n",
            "Epoch 39/50\n",
            "1875/1875 [==============================] - 8s 4ms/step - loss: 0.1592 - accuracy: 0.9503\n",
            "Epoch 40/50\n",
            "1875/1875 [==============================] - 6s 3ms/step - loss: 0.1583 - accuracy: 0.9505\n",
            "Epoch 41/50\n",
            "1875/1875 [==============================] - 8s 4ms/step - loss: 0.1572 - accuracy: 0.9512\n",
            "Epoch 42/50\n",
            "1875/1875 [==============================] - 6s 3ms/step - loss: 0.1559 - accuracy: 0.9516\n",
            "Epoch 43/50\n",
            "1875/1875 [==============================] - 7s 4ms/step - loss: 0.1544 - accuracy: 0.9517\n",
            "Epoch 44/50\n",
            "1875/1875 [==============================] - 6s 3ms/step - loss: 0.1554 - accuracy: 0.9517\n",
            "Epoch 45/50\n",
            "1875/1875 [==============================] - 7s 4ms/step - loss: 0.1535 - accuracy: 0.9507\n",
            "Epoch 46/50\n",
            "1875/1875 [==============================] - 6s 3ms/step - loss: 0.1528 - accuracy: 0.9524\n",
            "Epoch 47/50\n",
            "1875/1875 [==============================] - 8s 4ms/step - loss: 0.1510 - accuracy: 0.9532\n",
            "Epoch 48/50\n",
            "1875/1875 [==============================] - 7s 3ms/step - loss: 0.1506 - accuracy: 0.9524\n",
            "Epoch 49/50\n",
            "1875/1875 [==============================] - 9s 5ms/step - loss: 0.1510 - accuracy: 0.9525\n",
            "Epoch 50/50\n",
            "1875/1875 [==============================] - 7s 4ms/step - loss: 0.1482 - accuracy: 0.9535\n"
          ]
        }
      ]
    },
    {
      "cell_type": "code",
      "source": [
        "model.evaluate(x= test_X, y = test_y, batch_size = 32) #overfitting, model memorizes the data instead of 'learning', add penalties to our weights- add constraints to model even more"
      ],
      "metadata": {
        "colab": {
          "base_uri": "https://localhost:8080/"
        },
        "id": "54WlCFp7HY6j",
        "outputId": "dd22a28b-8475-49f9-b65e-496223dbee07"
      },
      "execution_count": 16,
      "outputs": [
        {
          "output_type": "stream",
          "name": "stdout",
          "text": [
            "313/313 [==============================] - 1s 4ms/step - loss: 0.2009 - accuracy: 0.9401\n"
          ]
        },
        {
          "output_type": "execute_result",
          "data": {
            "text/plain": [
              "[0.20090027153491974, 0.9401000142097473]"
            ]
          },
          "metadata": {},
          "execution_count": 16
        }
      ]
    },
    {
      "cell_type": "code",
      "source": [
        "random_index = np.random.randint(low = 0, high = training_data[0].shape[0], size = 1, dtype = int)\n",
        "random_example = np.squeeze(training_data[0][random_index], axis = 0) #axis= first dimension of the tuple, squeeze removes unnecesary dimension\n",
        "plt.imshow(random_example)\n",
        "\n",
        "print(f'Image Label: {training_data[1][random_index][0]}')\n",
        "plt.show()"
      ],
      "metadata": {
        "colab": {
          "base_uri": "https://localhost:8080/",
          "height": 448
        },
        "id": "kmhgkdd2Ie9s",
        "outputId": "659eaeb8-8f8f-4e36-f5db-6646c9bfe117"
      },
      "execution_count": 17,
      "outputs": [
        {
          "output_type": "stream",
          "name": "stdout",
          "text": [
            "Image Label: 7\n"
          ]
        },
        {
          "output_type": "display_data",
          "data": {
            "text/plain": [
              "<Figure size 640x480 with 1 Axes>"
            ],
            "image/png": "[encoded data removed]"
          },
          "metadata": {}
        }
      ]
    },
    {
      "cell_type": "code",
      "source": [
        "prediction = model.predict(random_example.reshape(1,28,28))\n",
        "print(f'actual: {training_data[1][random_index][0]}')\n",
        "print(f'Model prediction: {np.argmax(prediction)}') #returns the highest probability output"
      ],
      "metadata": {
        "colab": {
          "base_uri": "https://localhost:8080/"
        },
        "id": "SMLJU8wBJUkb",
        "outputId": "7a404e15-f6d3-4a29-9113-214c02d1aab0"
      },
      "execution_count": 19,
      "outputs": [
        {
          "output_type": "stream",
          "name": "stdout",
          "text": [
            "1/1 [==============================] - 0s 335ms/step\n",
            "actual: 7\n",
            "Model prediction: 7\n"
          ]
        }
      ]
    },
    {
      "cell_type": "code",
      "source": [],
      "metadata": {
        "id": "_6og0ze-K5w-"
      },
      "execution_count": null,
      "outputs": []
    }
  ]
}